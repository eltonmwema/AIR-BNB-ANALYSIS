{
 "cells": [
  {
   "cell_type": "code",
   "execution_count": 5,
   "id": "874f7335",
   "metadata": {},
   "outputs": [],
   "source": [
    "import pandas as pd \n",
    "import numpy as np \n",
    "import matplotlib.pyplot as plt \n",
    "import seaborn as sns\n",
    "plt.style.use('ggplot')\n",
    "from sklearn.model_selection import train_test_split\n",
    "from sklearn.compose import ColumnTransformer\n",
    "from sklearn.pipeline import Pipeline\n",
    "from sklearn.preprocessing import StandardScaler, OneHotEncoder,FunctionTransformer\n",
    "from sklearn.base import BaseEstimator, TransformerMixin\n",
    "from imblearn.over_sampling import SMOTE\n",
    "from sklearn.ensemble import RandomForestClassifier, AdaBoostClassifier\n",
    "from sklearn.svm import SVC\n",
    "from sklearn.neighbors import KNeighborsClassifier\n",
    "from sklearn.metrics import accuracy_score, classification_report, confusion_matrix\n",
    "import joblib\n",
    "#import shap\n",
    "import warnings\n",
    "warnings.filterwarnings(\"ignore\")"
   ]
  },
  {
   "cell_type": "code",
   "execution_count": 3,
   "id": "7b663f6d",
   "metadata": {},
   "outputs": [
    {
     "data": {
      "text/html": [
       "<div>\n",
       "<style scoped>\n",
       "    .dataframe tbody tr th:only-of-type {\n",
       "        vertical-align: middle;\n",
       "    }\n",
       "\n",
       "    .dataframe tbody tr th {\n",
       "        vertical-align: top;\n",
       "    }\n",
       "\n",
       "    .dataframe thead th {\n",
       "        text-align: right;\n",
       "    }\n",
       "</style>\n",
       "<table border=\"1\" class=\"dataframe\">\n",
       "  <thead>\n",
       "    <tr style=\"text-align: right;\">\n",
       "      <th></th>\n",
       "      <th>Host Id</th>\n",
       "      <th>Host Since</th>\n",
       "      <th>Name</th>\n",
       "      <th>Neighbourhood</th>\n",
       "      <th>Property Type</th>\n",
       "      <th>Review Scores Rating (bin)</th>\n",
       "      <th>Room Type</th>\n",
       "      <th>Zipcode</th>\n",
       "      <th>Beds</th>\n",
       "      <th>Number of Records</th>\n",
       "      <th>Number Of Reviews</th>\n",
       "      <th>Price</th>\n",
       "      <th>Review Scores Rating</th>\n",
       "    </tr>\n",
       "  </thead>\n",
       "  <tbody>\n",
       "    <tr>\n",
       "      <th>0</th>\n",
       "      <td>5162530</td>\n",
       "      <td>NaT</td>\n",
       "      <td>1 Bedroom in Prime Williamsburg</td>\n",
       "      <td>Brooklyn</td>\n",
       "      <td>Apartment</td>\n",
       "      <td>NaN</td>\n",
       "      <td>Entire home/apt</td>\n",
       "      <td>11249.0</td>\n",
       "      <td>1.0</td>\n",
       "      <td>1</td>\n",
       "      <td>0</td>\n",
       "      <td>145</td>\n",
       "      <td>NaN</td>\n",
       "    </tr>\n",
       "    <tr>\n",
       "      <th>1</th>\n",
       "      <td>33134899</td>\n",
       "      <td>NaT</td>\n",
       "      <td>Sunny, Private room in Bushwick</td>\n",
       "      <td>Brooklyn</td>\n",
       "      <td>Apartment</td>\n",
       "      <td>NaN</td>\n",
       "      <td>Private room</td>\n",
       "      <td>11206.0</td>\n",
       "      <td>1.0</td>\n",
       "      <td>1</td>\n",
       "      <td>1</td>\n",
       "      <td>37</td>\n",
       "      <td>NaN</td>\n",
       "    </tr>\n",
       "    <tr>\n",
       "      <th>2</th>\n",
       "      <td>39608626</td>\n",
       "      <td>NaT</td>\n",
       "      <td>Sunny Room in Harlem</td>\n",
       "      <td>Manhattan</td>\n",
       "      <td>Apartment</td>\n",
       "      <td>NaN</td>\n",
       "      <td>Private room</td>\n",
       "      <td>10032.0</td>\n",
       "      <td>1.0</td>\n",
       "      <td>1</td>\n",
       "      <td>1</td>\n",
       "      <td>28</td>\n",
       "      <td>NaN</td>\n",
       "    </tr>\n",
       "    <tr>\n",
       "      <th>3</th>\n",
       "      <td>500</td>\n",
       "      <td>2008-06-26</td>\n",
       "      <td>Gorgeous 1 BR with Private Balcony</td>\n",
       "      <td>Manhattan</td>\n",
       "      <td>Apartment</td>\n",
       "      <td>NaN</td>\n",
       "      <td>Entire home/apt</td>\n",
       "      <td>10024.0</td>\n",
       "      <td>3.0</td>\n",
       "      <td>1</td>\n",
       "      <td>0</td>\n",
       "      <td>199</td>\n",
       "      <td>NaN</td>\n",
       "    </tr>\n",
       "    <tr>\n",
       "      <th>4</th>\n",
       "      <td>500</td>\n",
       "      <td>2008-06-26</td>\n",
       "      <td>Trendy Times Square Loft</td>\n",
       "      <td>Manhattan</td>\n",
       "      <td>Apartment</td>\n",
       "      <td>95.0</td>\n",
       "      <td>Private room</td>\n",
       "      <td>10036.0</td>\n",
       "      <td>3.0</td>\n",
       "      <td>1</td>\n",
       "      <td>39</td>\n",
       "      <td>549</td>\n",
       "      <td>96.0</td>\n",
       "    </tr>\n",
       "  </tbody>\n",
       "</table>\n",
       "</div>"
      ],
      "text/plain": [
       "    Host Id Host Since                                Name Neighbourhood   \\\n",
       "0   5162530        NaT     1 Bedroom in Prime Williamsburg       Brooklyn   \n",
       "1  33134899        NaT     Sunny, Private room in Bushwick       Brooklyn   \n",
       "2  39608626        NaT                Sunny Room in Harlem      Manhattan   \n",
       "3       500 2008-06-26  Gorgeous 1 BR with Private Balcony      Manhattan   \n",
       "4       500 2008-06-26            Trendy Times Square Loft      Manhattan   \n",
       "\n",
       "  Property Type  Review Scores Rating (bin)        Room Type  Zipcode  Beds  \\\n",
       "0     Apartment                         NaN  Entire home/apt  11249.0   1.0   \n",
       "1     Apartment                         NaN     Private room  11206.0   1.0   \n",
       "2     Apartment                         NaN     Private room  10032.0   1.0   \n",
       "3     Apartment                         NaN  Entire home/apt  10024.0   3.0   \n",
       "4     Apartment                        95.0     Private room  10036.0   3.0   \n",
       "\n",
       "   Number of Records  Number Of Reviews  Price  Review Scores Rating  \n",
       "0                  1                  0    145                   NaN  \n",
       "1                  1                  1     37                   NaN  \n",
       "2                  1                  1     28                   NaN  \n",
       "3                  1                  0    199                   NaN  \n",
       "4                  1                 39    549                  96.0  "
      ]
     },
     "execution_count": 3,
     "metadata": {},
     "output_type": "execute_result"
    }
   ],
   "source": [
    "df=pd.read_excel('airbnb.xlsx')\n",
    "df.head()"
   ]
  },
  {
   "cell_type": "code",
   "execution_count": 18,
   "id": "4cf2f0e3",
   "metadata": {},
   "outputs": [
    {
     "name": "stdout",
     "output_type": "stream",
     "text": [
      "<class 'pandas.core.frame.DataFrame'>\n",
      "Int64Index: 22010 entries, 4 to 30409\n",
      "Data columns (total 13 columns):\n",
      " #   Column                      Non-Null Count  Dtype         \n",
      "---  ------                      --------------  -----         \n",
      " 0   Host Id                     22010 non-null  int64         \n",
      " 1   Host Since                  22010 non-null  datetime64[ns]\n",
      " 2   Name                        22010 non-null  object        \n",
      " 3   Neighbourhood               22010 non-null  object        \n",
      " 4   Property Type               22010 non-null  object        \n",
      " 5   Review Scores Rating (bin)  22010 non-null  float64       \n",
      " 6   Room Type                   22010 non-null  object        \n",
      " 7   Zipcode                     22010 non-null  float64       \n",
      " 8   Beds                        22010 non-null  float64       \n",
      " 9   Number of Records           22010 non-null  int64         \n",
      " 10  Number Of Reviews           22010 non-null  int64         \n",
      " 11  Price                       22010 non-null  int64         \n",
      " 12  Review Scores Rating        22010 non-null  float64       \n",
      "dtypes: datetime64[ns](1), float64(4), int64(4), object(4)\n",
      "memory usage: 2.4+ MB\n"
     ]
    }
   ],
   "source": [
    "df.info()"
   ]
  },
  {
   "cell_type": "code",
   "execution_count": 7,
   "id": "8f58019d",
   "metadata": {},
   "outputs": [
    {
     "data": {
      "text/plain": [
       "Host Id                          0\n",
       "Host Since                       3\n",
       "Name                             0\n",
       "Neighbourhood                    0\n",
       "Property Type                    3\n",
       "Review Scores Rating (bin)    8323\n",
       "Room Type                        0\n",
       "Zipcode                        134\n",
       "Beds                            85\n",
       "Number of Records                0\n",
       "Number Of Reviews                0\n",
       "Price                            0\n",
       "Review Scores Rating          8323\n",
       "dtype: int64"
      ]
     },
     "execution_count": 7,
     "metadata": {},
     "output_type": "execute_result"
    }
   ],
   "source": [
    "df.isna().sum()"
   ]
  },
  {
   "cell_type": "code",
   "execution_count": 10,
   "id": "4bd04611",
   "metadata": {},
   "outputs": [],
   "source": [
    "def missing_values_percent(df):\n",
    "    df_nulls = pd.DataFrame(df.isnull().sum().sort_values(ascending=False), columns=['Missing values count'])\n",
    "    df_nulls['% of missing values'] = (df.isnull().sum().sort_values(ascending=False)/len(df))*100\n",
    "    return df_nulls"
   ]
  },
  {
   "cell_type": "code",
   "execution_count": 11,
   "id": "ef482449",
   "metadata": {},
   "outputs": [
    {
     "data": {
      "text/html": [
       "<div>\n",
       "<style scoped>\n",
       "    .dataframe tbody tr th:only-of-type {\n",
       "        vertical-align: middle;\n",
       "    }\n",
       "\n",
       "    .dataframe tbody tr th {\n",
       "        vertical-align: top;\n",
       "    }\n",
       "\n",
       "    .dataframe thead th {\n",
       "        text-align: right;\n",
       "    }\n",
       "</style>\n",
       "<table border=\"1\" class=\"dataframe\">\n",
       "  <thead>\n",
       "    <tr style=\"text-align: right;\">\n",
       "      <th></th>\n",
       "      <th>Missing values count</th>\n",
       "      <th>% of missing values</th>\n",
       "    </tr>\n",
       "  </thead>\n",
       "  <tbody>\n",
       "    <tr>\n",
       "      <th>Review Scores Rating (bin)</th>\n",
       "      <td>8323</td>\n",
       "      <td>27.308222</td>\n",
       "    </tr>\n",
       "    <tr>\n",
       "      <th>Review Scores Rating</th>\n",
       "      <td>8323</td>\n",
       "      <td>27.308222</td>\n",
       "    </tr>\n",
       "    <tr>\n",
       "      <th>Zipcode</th>\n",
       "      <td>134</td>\n",
       "      <td>0.439661</td>\n",
       "    </tr>\n",
       "    <tr>\n",
       "      <th>Beds</th>\n",
       "      <td>85</td>\n",
       "      <td>0.278890</td>\n",
       "    </tr>\n",
       "    <tr>\n",
       "      <th>Host Since</th>\n",
       "      <td>3</td>\n",
       "      <td>0.009843</td>\n",
       "    </tr>\n",
       "    <tr>\n",
       "      <th>Property Type</th>\n",
       "      <td>3</td>\n",
       "      <td>0.009843</td>\n",
       "    </tr>\n",
       "    <tr>\n",
       "      <th>Host Id</th>\n",
       "      <td>0</td>\n",
       "      <td>0.000000</td>\n",
       "    </tr>\n",
       "    <tr>\n",
       "      <th>Name</th>\n",
       "      <td>0</td>\n",
       "      <td>0.000000</td>\n",
       "    </tr>\n",
       "    <tr>\n",
       "      <th>Neighbourhood</th>\n",
       "      <td>0</td>\n",
       "      <td>0.000000</td>\n",
       "    </tr>\n",
       "    <tr>\n",
       "      <th>Room Type</th>\n",
       "      <td>0</td>\n",
       "      <td>0.000000</td>\n",
       "    </tr>\n",
       "    <tr>\n",
       "      <th>Number of Records</th>\n",
       "      <td>0</td>\n",
       "      <td>0.000000</td>\n",
       "    </tr>\n",
       "    <tr>\n",
       "      <th>Number Of Reviews</th>\n",
       "      <td>0</td>\n",
       "      <td>0.000000</td>\n",
       "    </tr>\n",
       "    <tr>\n",
       "      <th>Price</th>\n",
       "      <td>0</td>\n",
       "      <td>0.000000</td>\n",
       "    </tr>\n",
       "  </tbody>\n",
       "</table>\n",
       "</div>"
      ],
      "text/plain": [
       "                            Missing values count  % of missing values\n",
       "Review Scores Rating (bin)                  8323            27.308222\n",
       "Review Scores Rating                        8323            27.308222\n",
       "Zipcode                                      134             0.439661\n",
       "Beds                                          85             0.278890\n",
       "Host Since                                     3             0.009843\n",
       "Property Type                                  3             0.009843\n",
       "Host Id                                        0             0.000000\n",
       "Name                                           0             0.000000\n",
       "Neighbourhood                                  0             0.000000\n",
       "Room Type                                      0             0.000000\n",
       "Number of Records                              0             0.000000\n",
       "Number Of Reviews                              0             0.000000\n",
       "Price                                          0             0.000000"
      ]
     },
     "execution_count": 11,
     "metadata": {},
     "output_type": "execute_result"
    }
   ],
   "source": [
    "missing_values_percent(df)"
   ]
  },
  {
   "cell_type": "code",
   "execution_count": 17,
   "id": "e66dc4a8",
   "metadata": {},
   "outputs": [
    {
     "data": {
      "text/plain": [
       "Host Id                       0\n",
       "Host Since                    0\n",
       "Name                          0\n",
       "Neighbourhood                 0\n",
       "Property Type                 0\n",
       "Review Scores Rating (bin)    0\n",
       "Room Type                     0\n",
       "Zipcode                       0\n",
       "Beds                          0\n",
       "Number of Records             0\n",
       "Number Of Reviews             0\n",
       "Price                         0\n",
       "Review Scores Rating          0\n",
       "dtype: int64"
      ]
     },
     "execution_count": 17,
     "metadata": {},
     "output_type": "execute_result"
    }
   ],
   "source": [
    "df=df.dropna()\n",
    "df.isna().sum()"
   ]
  },
  {
   "cell_type": "code",
   "execution_count": 20,
   "id": "54cab34e",
   "metadata": {},
   "outputs": [
    {
     "data": {
      "text/plain": [
       "3"
      ]
     },
     "execution_count": 20,
     "metadata": {},
     "output_type": "execute_result"
    }
   ],
   "source": [
    "df.duplicated().sum()"
   ]
  },
  {
   "cell_type": "code",
   "execution_count": 23,
   "id": "e574d524",
   "metadata": {},
   "outputs": [
    {
     "data": {
      "text/plain": [
       "0"
      ]
     },
     "execution_count": 23,
     "metadata": {},
     "output_type": "execute_result"
    }
   ],
   "source": [
    "df=df.drop_duplicates()\n",
    "df.duplicated().sum()"
   ]
  },
  {
   "cell_type": "code",
   "execution_count": 48,
   "id": "ec8d8c29",
   "metadata": {},
   "outputs": [
    {
     "data": {
      "text/plain": [
       "Index(['Host Id', 'Host Since', 'Name', 'Neighbourhood ', 'Property Type',\n",
       "       'Room Type', 'Zipcode', 'Beds', 'Number of Records',\n",
       "       'Number Of Reviews', 'Price', 'Review Scores Rating'],\n",
       "      dtype='object')"
      ]
     },
     "execution_count": 48,
     "metadata": {},
     "output_type": "execute_result"
    }
   ],
   "source": [
    "df=df.drop('Review Scores Rating (bin)',axis=1 ,inplace=True)\n",
    "df.columns"
   ]
  },
  {
   "cell_type": "code",
   "execution_count": 49,
   "id": "10e7765e",
   "metadata": {},
   "outputs": [
    {
     "data": {
      "text/html": [
       "<div>\n",
       "<style scoped>\n",
       "    .dataframe tbody tr th:only-of-type {\n",
       "        vertical-align: middle;\n",
       "    }\n",
       "\n",
       "    .dataframe tbody tr th {\n",
       "        vertical-align: top;\n",
       "    }\n",
       "\n",
       "    .dataframe thead th {\n",
       "        text-align: right;\n",
       "    }\n",
       "</style>\n",
       "<table border=\"1\" class=\"dataframe\">\n",
       "  <thead>\n",
       "    <tr style=\"text-align: right;\">\n",
       "      <th></th>\n",
       "      <th>Host Id</th>\n",
       "      <th>Host Since</th>\n",
       "      <th>Name</th>\n",
       "      <th>Neighbourhood</th>\n",
       "      <th>Property Type</th>\n",
       "      <th>Room Type</th>\n",
       "      <th>Zipcode</th>\n",
       "      <th>Beds</th>\n",
       "      <th>Number of Records</th>\n",
       "      <th>Number Of Reviews</th>\n",
       "      <th>Price</th>\n",
       "      <th>Review Scores Rating</th>\n",
       "    </tr>\n",
       "  </thead>\n",
       "  <tbody>\n",
       "    <tr>\n",
       "      <th>30332</th>\n",
       "      <td>42349033</td>\n",
       "      <td>2015-08-24</td>\n",
       "      <td>Cute cozy studio in east village</td>\n",
       "      <td>Manhattan</td>\n",
       "      <td>Apartment</td>\n",
       "      <td>Entire home/apt</td>\n",
       "      <td>10003.0</td>\n",
       "      <td>1.0</td>\n",
       "      <td>1</td>\n",
       "      <td>1</td>\n",
       "      <td>90</td>\n",
       "      <td>100.0</td>\n",
       "    </tr>\n",
       "    <tr>\n",
       "      <th>30347</th>\n",
       "      <td>42430249</td>\n",
       "      <td>2015-08-24</td>\n",
       "      <td>Room in new spacious loft!</td>\n",
       "      <td>Brooklyn</td>\n",
       "      <td>Apartment</td>\n",
       "      <td>Private room</td>\n",
       "      <td>11222.0</td>\n",
       "      <td>1.0</td>\n",
       "      <td>1</td>\n",
       "      <td>1</td>\n",
       "      <td>65</td>\n",
       "      <td>80.0</td>\n",
       "    </tr>\n",
       "    <tr>\n",
       "      <th>30378</th>\n",
       "      <td>42518458</td>\n",
       "      <td>2015-08-25</td>\n",
       "      <td>Williamsburg Luxury Loft!⭐️Bed Top</td>\n",
       "      <td>Brooklyn</td>\n",
       "      <td>Loft</td>\n",
       "      <td>Shared room</td>\n",
       "      <td>11206.0</td>\n",
       "      <td>1.0</td>\n",
       "      <td>1</td>\n",
       "      <td>1</td>\n",
       "      <td>55</td>\n",
       "      <td>100.0</td>\n",
       "    </tr>\n",
       "    <tr>\n",
       "      <th>30404</th>\n",
       "      <td>42697124</td>\n",
       "      <td>2015-08-27</td>\n",
       "      <td>Cute, Clean Room- East Williamsburg</td>\n",
       "      <td>Brooklyn</td>\n",
       "      <td>Apartment</td>\n",
       "      <td>Private room</td>\n",
       "      <td>11206.0</td>\n",
       "      <td>1.0</td>\n",
       "      <td>1</td>\n",
       "      <td>1</td>\n",
       "      <td>60</td>\n",
       "      <td>100.0</td>\n",
       "    </tr>\n",
       "    <tr>\n",
       "      <th>30409</th>\n",
       "      <td>42726605</td>\n",
       "      <td>2015-08-27</td>\n",
       "      <td>Cozy and Near Tourist Attractions</td>\n",
       "      <td>Manhattan</td>\n",
       "      <td>Apartment</td>\n",
       "      <td>Private room</td>\n",
       "      <td>10002.0</td>\n",
       "      <td>1.0</td>\n",
       "      <td>1</td>\n",
       "      <td>1</td>\n",
       "      <td>99</td>\n",
       "      <td>80.0</td>\n",
       "    </tr>\n",
       "  </tbody>\n",
       "</table>\n",
       "</div>"
      ],
      "text/plain": [
       "        Host Id Host Since                                 Name  \\\n",
       "30332  42349033 2015-08-24     Cute cozy studio in east village   \n",
       "30347  42430249 2015-08-24           Room in new spacious loft!   \n",
       "30378  42518458 2015-08-25   Williamsburg Luxury Loft!⭐️Bed Top   \n",
       "30404  42697124 2015-08-27  Cute, Clean Room- East Williamsburg   \n",
       "30409  42726605 2015-08-27    Cozy and Near Tourist Attractions   \n",
       "\n",
       "      Neighbourhood  Property Type        Room Type  Zipcode  Beds  \\\n",
       "30332      Manhattan     Apartment  Entire home/apt  10003.0   1.0   \n",
       "30347       Brooklyn     Apartment     Private room  11222.0   1.0   \n",
       "30378       Brooklyn          Loft      Shared room  11206.0   1.0   \n",
       "30404       Brooklyn     Apartment     Private room  11206.0   1.0   \n",
       "30409      Manhattan     Apartment     Private room  10002.0   1.0   \n",
       "\n",
       "       Number of Records  Number Of Reviews  Price  Review Scores Rating  \n",
       "30332                  1                  1     90                 100.0  \n",
       "30347                  1                  1     65                  80.0  \n",
       "30378                  1                  1     55                 100.0  \n",
       "30404                  1                  1     60                 100.0  \n",
       "30409                  1                  1     99                  80.0  "
      ]
     },
     "execution_count": 49,
     "metadata": {},
     "output_type": "execute_result"
    }
   ],
   "source": [
    "df.tail()"
   ]
  },
  {
   "cell_type": "code",
   "execution_count": 50,
   "id": "d0bbcf2b",
   "metadata": {},
   "outputs": [
    {
     "data": {
      "text/html": [
       "<div>\n",
       "<style scoped>\n",
       "    .dataframe tbody tr th:only-of-type {\n",
       "        vertical-align: middle;\n",
       "    }\n",
       "\n",
       "    .dataframe tbody tr th {\n",
       "        vertical-align: top;\n",
       "    }\n",
       "\n",
       "    .dataframe thead th {\n",
       "        text-align: right;\n",
       "    }\n",
       "</style>\n",
       "<table border=\"1\" class=\"dataframe\">\n",
       "  <thead>\n",
       "    <tr style=\"text-align: right;\">\n",
       "      <th></th>\n",
       "      <th>count</th>\n",
       "      <th>mean</th>\n",
       "      <th>std</th>\n",
       "      <th>min</th>\n",
       "      <th>25%</th>\n",
       "      <th>50%</th>\n",
       "      <th>75%</th>\n",
       "      <th>max</th>\n",
       "    </tr>\n",
       "  </thead>\n",
       "  <tbody>\n",
       "    <tr>\n",
       "      <th>Host Id</th>\n",
       "      <td>22007.0</td>\n",
       "      <td>1.104610e+07</td>\n",
       "      <td>1.079848e+07</td>\n",
       "      <td>500.0</td>\n",
       "      <td>2241259.5</td>\n",
       "      <td>6900870.0</td>\n",
       "      <td>18085957.0</td>\n",
       "      <td>42726605.0</td>\n",
       "    </tr>\n",
       "    <tr>\n",
       "      <th>Zipcode</th>\n",
       "      <td>22007.0</td>\n",
       "      <td>1.057531e+04</td>\n",
       "      <td>5.977412e+02</td>\n",
       "      <td>7105.0</td>\n",
       "      <td>10016.0</td>\n",
       "      <td>10044.0</td>\n",
       "      <td>11216.0</td>\n",
       "      <td>11694.0</td>\n",
       "    </tr>\n",
       "    <tr>\n",
       "      <th>Beds</th>\n",
       "      <td>22007.0</td>\n",
       "      <td>1.556687e+00</td>\n",
       "      <td>1.043301e+00</td>\n",
       "      <td>0.0</td>\n",
       "      <td>1.0</td>\n",
       "      <td>1.0</td>\n",
       "      <td>2.0</td>\n",
       "      <td>16.0</td>\n",
       "    </tr>\n",
       "    <tr>\n",
       "      <th>Number of Records</th>\n",
       "      <td>22007.0</td>\n",
       "      <td>1.000000e+00</td>\n",
       "      <td>0.000000e+00</td>\n",
       "      <td>1.0</td>\n",
       "      <td>1.0</td>\n",
       "      <td>1.0</td>\n",
       "      <td>1.0</td>\n",
       "      <td>1.0</td>\n",
       "    </tr>\n",
       "    <tr>\n",
       "      <th>Number Of Reviews</th>\n",
       "      <td>22007.0</td>\n",
       "      <td>1.646149e+01</td>\n",
       "      <td>2.423138e+01</td>\n",
       "      <td>1.0</td>\n",
       "      <td>3.0</td>\n",
       "      <td>7.0</td>\n",
       "      <td>20.0</td>\n",
       "      <td>257.0</td>\n",
       "    </tr>\n",
       "    <tr>\n",
       "      <th>Price</th>\n",
       "      <td>22007.0</td>\n",
       "      <td>1.547761e+02</td>\n",
       "      <td>1.489990e+02</td>\n",
       "      <td>10.0</td>\n",
       "      <td>85.0</td>\n",
       "      <td>125.0</td>\n",
       "      <td>190.0</td>\n",
       "      <td>10000.0</td>\n",
       "    </tr>\n",
       "    <tr>\n",
       "      <th>Review Scores Rating</th>\n",
       "      <td>22007.0</td>\n",
       "      <td>9.198773e+01</td>\n",
       "      <td>8.860796e+00</td>\n",
       "      <td>20.0</td>\n",
       "      <td>89.0</td>\n",
       "      <td>94.0</td>\n",
       "      <td>100.0</td>\n",
       "      <td>100.0</td>\n",
       "    </tr>\n",
       "  </tbody>\n",
       "</table>\n",
       "</div>"
      ],
      "text/plain": [
       "                        count          mean           std     min        25%  \\\n",
       "Host Id               22007.0  1.104610e+07  1.079848e+07   500.0  2241259.5   \n",
       "Zipcode               22007.0  1.057531e+04  5.977412e+02  7105.0    10016.0   \n",
       "Beds                  22007.0  1.556687e+00  1.043301e+00     0.0        1.0   \n",
       "Number of Records     22007.0  1.000000e+00  0.000000e+00     1.0        1.0   \n",
       "Number Of Reviews     22007.0  1.646149e+01  2.423138e+01     1.0        3.0   \n",
       "Price                 22007.0  1.547761e+02  1.489990e+02    10.0       85.0   \n",
       "Review Scores Rating  22007.0  9.198773e+01  8.860796e+00    20.0       89.0   \n",
       "\n",
       "                            50%         75%         max  \n",
       "Host Id               6900870.0  18085957.0  42726605.0  \n",
       "Zipcode                 10044.0     11216.0     11694.0  \n",
       "Beds                        1.0         2.0        16.0  \n",
       "Number of Records           1.0         1.0         1.0  \n",
       "Number Of Reviews           7.0        20.0       257.0  \n",
       "Price                     125.0       190.0     10000.0  \n",
       "Review Scores Rating       94.0       100.0       100.0  "
      ]
     },
     "execution_count": 50,
     "metadata": {},
     "output_type": "execute_result"
    }
   ],
   "source": [
    "df.describe().T"
   ]
  },
  {
   "cell_type": "code",
   "execution_count": 56,
   "id": "927bd4ef",
   "metadata": {},
   "outputs": [],
   "source": [
    "df.to_excel('Air_BNB.xlsx')"
   ]
  },
  {
   "cell_type": "code",
   "execution_count": 57,
   "id": "f668548c",
   "metadata": {},
   "outputs": [
    {
     "data": {
      "image/png": "[encoded data removed]",
      "text/plain": [
       "<Figure size 800x600 with 1 Axes>"
      ]
     },
     "metadata": {},
     "output_type": "display_data"
    }
   ],
   "source": [
    "plt.figure(figsize=(8,6))\n",
    "sns.boxplot(x=\"Price\", color=\"firebrick\", data=df)\n",
    "plt.title(\"Distribution of price\")\n",
    "plt.show()"
   ]
  },
  {
   "cell_type": "code",
   "execution_count": 58,
   "id": "1c9af2fa",
   "metadata": {},
   "outputs": [
    {
     "data": {
      "image/png": "[encoded data removed]",
      "text/plain": [
       "<Figure size 800x600 with 1 Axes>"
      ]
     },
     "metadata": {},
     "output_type": "display_data"
    }
   ],
   "source": [
    "plt.figure(figsize=(8,6))\n",
    "sns.boxplot(x=\"Review Scores Rating\", color=\"firebrick\", data=df)\n",
    "plt.title(\"Distribution of Review Scores Rating\")\n",
    "plt.show()"
   ]
  },
  {
   "cell_type": "code",
   "execution_count": 59,
   "id": "092f1a14",
   "metadata": {},
   "outputs": [
    {
     "data": {
      "image/png": "[encoded data removed]",
      "text/plain": [
       "<Figure size 800x600 with 1 Axes>"
      ]
     },
     "metadata": {},
     "output_type": "display_data"
    }
   ],
   "source": [
    "plt.figure(figsize=(8,6))\n",
    "sns.boxplot(x=\"Beds\", color=\"firebrick\", data=df)\n",
    "plt.title(\"Distribution of Beds\")\n",
    "plt.show()"
   ]
  },
  {
   "cell_type": "code",
   "execution_count": 60,
   "id": "86aa83dd",
   "metadata": {},
   "outputs": [],
   "source": [
    "from wordcloud import WordCloud, STOPWORDS\n",
    "%matplotlib inline"
   ]
  },
  {
   "cell_type": "code",
   "execution_count": 68,
   "id": "45a910ee",
   "metadata": {},
   "outputs": [],
   "source": [
    "from PIL import Image, ImageDraw, ImageFont\n"
   ]
  },
  {
   "cell_type": "code",
   "execution_count": null,
   "id": "5da1f7d1",
   "metadata": {},
   "outputs": [],
   "source": []
  }
 ],
 "metadata": {
  "kernelspec": {
   "display_name": "Python 3 (ipykernel)",
   "language": "python",
   "name": "python3"
  },
  "language_info": {
   "codemirror_mode": {
    "name": "ipython",
    "version": 3
   },
   "file_extension": ".py",
   "mimetype": "text/x-python",
   "name": "python",
   "nbconvert_exporter": "python",
   "pygments_lexer": "ipython3",
   "version": "3.8.5"
  }
 },
 "nbformat": 4,
 "nbformat_minor": 5
}
